{
 "cells": [
  {
   "cell_type": "markdown",
   "metadata": {},
   "source": [
    "## [Chapter 13] Setting up the outdoors dataset\n",
    "\n",
    "We're going to use the Outdoors dataset for this chapter, and for a very important reason: the vocabulary and contexts in the outdoor question and answer __domain__ already have good coverage in the Transformer models we'll be using.\n",
    "\n",
    "This is because the datasets that were used to train the model include sources that are likely to have similar subject matter.  Wikipedia was used to train bert-base-uncased (https://huggingface.co/bert-base-uncased#training-data) and, surprise! wikipedia has a section specifically on outdoors content: https://en.wikipedia.org/wiki/Outdoor\n",
    "\n",
    "This is important, because if the words and their contexts haven't been seen before, the model will be less accurate.\n",
    "\n",
    "Also, who doesn't enjoy playing around with a new dataset?! Data is search nerd candy."
   ]
  },
  {
   "cell_type": "code",
   "execution_count": null,
   "metadata": {},
   "outputs": [],
   "source": [
    "import sys\n",
    "import pickle\n",
    "import json\n",
    "sys.path.append('..')\n",
    "from aips import *\n",
    "from IPython.core.display import display,HTML"
   ]
  },
  {
   "cell_type": "code",
   "execution_count": null,
   "metadata": {},
   "outputs": [],
   "source": [
    "def add_outdoors_fields_to_schema(outdoors_collection):\n",
    "    upsert_string_field(outdoors_collection,\"url\")\n",
    "    upsert_integer_field(outdoors_collection,\"post_type_id\")\n",
    "    upsert_integer_field(outdoors_collection,\"accepted_answer_id\")\n",
    "    upsert_integer_field(outdoors_collection,\"parent_id\")\n",
    "    upsert_integer_field(outdoors_collection,\"score\")\n",
    "    upsert_integer_field(outdoors_collection,\"view_count\")\n",
    "    upsert_text_field(outdoors_collection,\"body\")\n",
    "    upsert_text_field(outdoors_collection,\"title\")\n",
    "    upsert_keyword_field(outdoors_collection,\"tags\")\n",
    "    upsert_integer_field(outdoors_collection,\"answer_count\")\n",
    "    upsert_integer_field(outdoors_collection,\"owner_user_id\")"
   ]
  },
  {
   "cell_type": "markdown",
   "metadata": {},
   "source": [
    "## Downloading and Processing the Outdoors Dataset"
   ]
  },
  {
   "cell_type": "code",
   "execution_count": null,
   "metadata": {},
   "outputs": [],
   "source": [
    "from densevectors.outdoors import *\n",
    "    \n",
    "def download_outdoors_dataset():\n",
    "    from ltr.download import download, extract_tgz\n",
    "    import tarfile\n",
    "\n",
    "    dataset = ['https://github.com/ai-powered-search/outdoors/raw/master/outdoors.tgz']\n",
    "    download(dataset, dest='data/')\n",
    "    extract_tgz('data/outdoors.tgz') # -> Holds 'outdoors.csv', a big CSV file of the stackexchange outdoors dataset\n",
    "    \n",
    "def process_outdoors_dataset():\n",
    "    #Transform the the outdoors.csv file into solr documents\n",
    "    df = cleanDataset('data/posts.csv')\n",
    "    data = transformDataFrame(df)\n",
    "    return data\n",
    "    \n",
    "def index_dataset_to_search_engine(outdoors_collection, data):\n",
    "    print(\"\\nAdding Documents to '\" + outdoors_collection + \"' collection\")\n",
    "    response = requests.post(solr_url + outdoors_collection + \"/update?commit=true\", json=data).json()\n",
    "    print(str(response))\n",
    "    print(\"Status: \" \"Success\" if response[\"responseHeader\"][\"status\"] == 0 else \"Failure\" )"
   ]
  },
  {
   "cell_type": "code",
   "execution_count": null,
   "metadata": {},
   "outputs": [],
   "source": [
    "#Download the dataset one time up-front\n",
    "download_outdoors_dataset()"
   ]
  },
  {
   "cell_type": "markdown",
   "metadata": {},
   "source": [
    "## Listing 13.1\n",
    "\n",
    "### Creating our Collection and Indexing the documents"
   ]
  },
  {
   "cell_type": "code",
   "execution_count": null,
   "metadata": {},
   "outputs": [],
   "source": [
    "outdoors_collection=\"outdoors\"\n",
    "create_collection(outdoors_collection)\n",
    "add_outdoors_fields_to_schema(outdoors_collection)\n",
    "index_dataset_to_search_engine(outdoors_collection, process_outdoors_dataset())"
   ]
  },
  {
   "cell_type": "markdown",
   "metadata": {},
   "source": [
    "## Listing 13.2"
   ]
  },
  {
   "cell_type": "markdown",
   "metadata": {},
   "source": [
    "### Sample Question and Answer Documents"
   ]
  },
  {
   "cell_type": "code",
   "execution_count": null,
   "metadata": {},
   "outputs": [],
   "source": [
    "def show_data_sample(post_id):\n",
    "    request = {\n",
    "        \"query\": \"id:\" + str(post_id) + \" OR parent_id:\" + str(post_id),\n",
    "        \"fields\": [\"id, post_type_id\", \"title\", \"parent_id\",\" accepted_answer_id\", \"body\"],\n",
    "        \"params\": {\n",
    "          \"fq\":\"post_type_id:*\",\n",
    "          \"indent\": \"true\",\n",
    "          \"sort\":  \"post_type_id asc\"\n",
    "        }\n",
    "    }\n",
    "    \n",
    "    response = requests.post(solr_url + outdoors_collection + \"/select\", json=request).json()\n",
    "    results = json.dumps(list(response[\"response\"][\"docs\"]), indent=4)\n",
    "    print(results)\n",
    "\n",
    "show_data_sample(7)"
   ]
  },
  {
   "cell_type": "code",
   "execution_count": null,
   "metadata": {},
   "outputs": [],
   "source": [
    "def query_collection(query,verbose=False):\n",
    "    request = {\n",
    "        \"query\": query,\n",
    "        \"fields\": [\"id\", \"title\", \"url\"],\n",
    "        \"params\": {\n",
    "          \"fq\":\"post_type_id:1\",\n",
    "          \"qf\": [\"title\",\"body\"],\n",
    "          \"defType\": \"edismax\",\n",
    "          \"indent\": \"true\",\n",
    "          \"hl\": True\n",
    "        }\n",
    "    }\n",
    "    display(HTML(\"<br/><strong>Query: </strong><i>\" + query + \"</i><br/><br/><strong>Ranked Docs:</strong>\"))\n",
    "    response = requests.post(solr_url + outdoors_collection + \"/select\", json=request).json()\n",
    "    results = list(response[\"response\"][\"docs\"])\n",
    "    highlights = [response[\"highlighting\"][k] for k in response[\"highlighting\"].keys()]\n",
    "    res = [j for j in zip(results, highlights)]\n",
    "    i=1\n",
    "    for r in res:\n",
    "        display(HTML('<a href=\"'+r[0][\"url\"]+'\">qid '+r[0][\"id\"]+'</a>&nbsp;'))\n",
    "        if \"title\" in r[0].keys():\n",
    "            display(HTML('<strong>Question Title:</strong>' + r[0][\"title\"]))\n",
    "        if verbose:\n",
    "            display(HTML('<strong>Body:</strong>'+html.unescape(str(r[1][\"body\"][0]))))\n",
    "            display(HTML('<hr>'))\n",
    "        i+=1"
   ]
  },
  {
   "cell_type": "markdown",
   "metadata": {},
   "source": [
    "## Listing 13.3\n",
    "\n",
    "### Querying our collection with a noun phrase"
   ]
  },
  {
   "cell_type": "code",
   "execution_count": null,
   "metadata": {},
   "outputs": [],
   "source": [
    "query_collection(\"climbing knots\",verbose=True)"
   ]
  },
  {
   "cell_type": "code",
   "execution_count": null,
   "metadata": {},
   "outputs": [],
   "source": [
    "query_collection(\"snow camping safety\")"
   ]
  },
  {
   "cell_type": "markdown",
   "metadata": {},
   "source": [
    "## Listing 13.4\n",
    "\n",
    "### Querying our collection with a question"
   ]
  },
  {
   "cell_type": "code",
   "execution_count": null,
   "metadata": {},
   "outputs": [],
   "source": [
    "query_collection(\"What is DEET?\",verbose=True)"
   ]
  }
 ],
 "metadata": {
  "kernelspec": {
   "display_name": "Python 3",
   "language": "python",
   "name": "python3"
  },
  "language_info": {
   "codemirror_mode": {
    "name": "ipython",
    "version": 3
   },
   "file_extension": ".py",
   "mimetype": "text/x-python",
   "name": "python",
   "nbconvert_exporter": "python",
   "pygments_lexer": "ipython3",
   "version": "3.7.6"
  }
 },
 "nbformat": 4,
 "nbformat_minor": 4
}
