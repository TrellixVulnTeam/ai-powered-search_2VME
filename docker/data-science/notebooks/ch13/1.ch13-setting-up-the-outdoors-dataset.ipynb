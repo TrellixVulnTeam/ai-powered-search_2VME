{
 "cells": [
  {
   "cell_type": "markdown",
   "metadata": {},
   "source": [
    "## [Chapter 13] Setting up the outdoors dataset\n",
    "\n",
    "We're going to use the Outdoors dataset for this chapter, and for a very important reason: the vocabulary and contexts in the outdoor question and answer __domain__ already have good coverage in the Transformer models we'll be using.\n",
    "\n",
    "This is because the datasets that were used to train the model include sources that are likely to have similar subject matter.  Wikipedia was used to train bert-base-uncased (https://huggingface.co/bert-base-uncased#training-data) and, surprise! wikipedia has a section specifically on outdoors content: https://en.wikipedia.org/wiki/Outdoor\n",
    "\n",
    "This is important, because if the words and their contexts haven't been seen before, the model will be less accurate.\n",
    "\n",
    "Also, who doesn't enjoy playing around with a new dataset?! Data is search nerd candy."
   ]
  },
  {
   "cell_type": "markdown",
   "metadata": {},
   "source": [
    "### Creating our Collection"
   ]
  },
  {
   "cell_type": "code",
   "execution_count": 1,
   "metadata": {},
   "outputs": [],
   "source": [
    "import sys\n",
    "import pickle\n",
    "import json\n",
    "sys.path.append('..')\n",
    "from aips import *"
   ]
  },
  {
   "cell_type": "code",
   "execution_count": 2,
   "metadata": {},
   "outputs": [
    {
     "name": "stdout",
     "output_type": "stream",
     "text": [
      "Wiping 'outdoors' collection\n",
      "[('action', 'CREATE'), ('name', 'outdoors'), ('numShards', 1), ('replicationFactor', 1)]\n",
      "Creating outdoors' collection\n",
      "Status: Success\n",
      "Adding 'post_type_id' field to collection\n",
      "Status: Success\n",
      "Adding 'accepted_answer_id' field to collection\n",
      "Status: Success\n",
      "Adding 'parent_id' field to collection\n",
      "Status: Success\n",
      "Adding 'score' field to collection\n",
      "Status: Success\n",
      "Adding 'view_count' field to collection\n",
      "Status: Success\n",
      "Adding 'body' field to collection\n",
      "Status: Success\n",
      "Adding 'title' field to collection\n",
      "Status: Success\n",
      "Adding 'tags' field to collection\n",
      "Status: Success\n",
      "Adding 'answer_count' field to collection\n",
      "Status: Success\n"
     ]
    }
   ],
   "source": [
    "outdoors_collection=\"outdoors\"\n",
    "create_collection(outdoors_collection)\n",
    "\n",
    "upsert_integer_field(outdoors_collection,\"post_type_id\")\n",
    "upsert_integer_field(outdoors_collection,\"accepted_answer_id\")\n",
    "upsert_integer_field(outdoors_collection,\"parent_id\")\n",
    "upsert_integer_field(outdoors_collection,\"score\")\n",
    "upsert_integer_field(outdoors_collection,\"view_count\")\n",
    "upsert_text_field(outdoors_collection,\"body\")\n",
    "upsert_text_field(outdoors_collection,\"title\")\n",
    "upsert_keyword_field(outdoors_collection,\"tags\")\n",
    "upsert_integer_field(outdoors_collection,\"answer_count\")"
   ]
  },
  {
   "cell_type": "code",
   "execution_count": 3,
   "metadata": {},
   "outputs": [
    {
     "name": "stdout",
     "output_type": "stream",
     "text": [
      "data/outdoors.tgz already exists\n"
     ]
    }
   ],
   "source": [
    "from ltr.download import download, extract_tgz\n",
    "import tarfile\n",
    "\n",
    "dataset = ['https://github.com/ai-powered-search/outdoors/raw/master/outdoors.tgz']\n",
    "download(dataset, dest='data/')\n",
    "extract_tgz('data/outdoors.tgz') # -> Holds 'outdoors.csv', a big CSV file of the stackexchange outdoors dataset"
   ]
  },
  {
   "cell_type": "code",
   "execution_count": 4,
   "metadata": {},
   "outputs": [
    {
     "name": "stdout",
     "output_type": "stream",
     "text": [
      "19585\n"
     ]
    }
   ],
   "source": [
    "from densevectors.outdoors import *\n",
    "#Transform the the outdoors.csv file into solr documents\n",
    "df = cleanDataset('data/posts.csv')\n",
    "data = transformDataFrame(df)\n",
    "print(len(data))"
   ]
  },
  {
   "cell_type": "code",
   "execution_count": 5,
   "metadata": {},
   "outputs": [
    {
     "name": "stdout",
     "output_type": "stream",
     "text": [
      "\n",
      "Adding Documents to 'outdoors' collection\n",
      "{'responseHeader': {'rf': 1, 'status': 0, 'QTime': 2882}}\n",
      "Status: Success\n"
     ]
    }
   ],
   "source": [
    "print(\"\\nAdding Documents to '\" + outdoors_collection + \"' collection\")\n",
    "response = requests.post(solr_url + outdoors_collection + \"/update?commit=true\", json=data).json()\n",
    "print(str(response))\n",
    "print(\"Status: \" \"Success\" if response[\"responseHeader\"][\"status\"] == 0 else \"Failure\" )"
   ]
  },
  {
   "cell_type": "code",
   "execution_count": 8,
   "metadata": {},
   "outputs": [],
   "source": [
    "def query_collection(query):\n",
    "    request = {\n",
    "        \"query\": query,\n",
    "        \"fields\": [\"id\", \"title\"],\n",
    "        \"params\": {\n",
    "          \"qf\": [\"title\",\"body\"],\n",
    "          \"defType\": \"edismax\",\n",
    "          \"indent\": \"true\",\n",
    "          \"hl\": True\n",
    "        }\n",
    "    }\n",
    "    from IPython.core.display import display,HTML\n",
    "    display(HTML(\"<br/><strong>Query: </strong><i>\" + query + \"</i><br/><br/><strong>Ranked Docs:</strong>\"))\n",
    "    response = requests.post(solr_url + outdoors_collection + \"/select\", json=request).json()\n",
    "    results = list(response[\"response\"][\"docs\"])\n",
    "    highlights = [response[\"highlighting\"][k] for k in response[\"highlighting\"].keys()]\n",
    "    res = [j for j in zip(results, highlights)]\n",
    "    i=1\n",
    "    for r in res:\n",
    "        if \"title\" in r[0].keys():\n",
    "            display(HTML('<strong>' + r[0][\"title\"] + '</strong>'))\n",
    "        display(HTML(html.unescape(str(r[1][\"body\"][0]))))\n",
    "        display(HTML('<hr>'))\n",
    "        i+=1\n",
    "    #output = str(res).replace('\\\\n', '').replace(\", '\", \",<br/>'\")\n",
    "    #display(HTML(res))\n",
    "    #print(str(response))"
   ]
  },
  {
   "cell_type": "code",
   "execution_count": 9,
   "metadata": {},
   "outputs": [
    {
     "data": {
      "text/html": [
       "<br/><strong>Query: </strong><i>uses for tree branches</i><br/><br/><strong>Ranked Docs:</strong>"
      ],
      "text/plain": [
       "<IPython.core.display.HTML object>"
      ]
     },
     "metadata": {},
     "output_type": "display_data"
    },
    {
     "data": {
      "text/html": [
       "<strong>Knot for pulling two branches of a tree together</strong>"
      ],
      "text/plain": [
       "<IPython.core.display.HTML object>"
      ]
     },
     "metadata": {},
     "output_type": "display_data"
    },
    {
     "data": {
      "text/html": [
       "I need to bring two <em>branches</em> of a palm <em>tree</em>/bush together. So I need a knot that is secure under"
      ],
      "text/plain": [
       "<IPython.core.display.HTML object>"
      ]
     },
     "metadata": {},
     "output_type": "display_data"
    },
    {
     "data": {
      "text/html": [
       "<hr>"
      ],
      "text/plain": [
       "<IPython.core.display.HTML object>"
      ]
     },
     "metadata": {},
     "output_type": "display_data"
    },
    {
     "data": {
      "text/html": [
       " to provide a shelter. Using the <em>tree</em> trunk gives a solid support <em>for</em> this sort of thing, and often"
      ],
      "text/plain": [
       "<IPython.core.display.HTML object>"
      ]
     },
     "metadata": {},
     "output_type": "display_data"
    },
    {
     "data": {
      "text/html": [
       "<hr>"
      ],
      "text/plain": [
       "<IPython.core.display.HTML object>"
      ]
     },
     "metadata": {},
     "output_type": "display_data"
    },
    {
     "data": {
      "text/html": [
       " lowest <em>branches</em> die and dry as the <em>tree</em> grows - the rest of the <em>branches</em> are usually thick enough to keep"
      ],
      "text/plain": [
       "<IPython.core.display.HTML object>"
      ]
     },
     "metadata": {},
     "output_type": "display_data"
    },
    {
     "data": {
      "text/html": [
       "<hr>"
      ],
      "text/plain": [
       "<IPython.core.display.HTML object>"
      ]
     },
     "metadata": {},
     "output_type": "display_data"
    },
    {
     "data": {
      "text/html": [
       " lower <em>branches</em> of it (at some point when the <em>tree</em> was younger). The leaves also look like the ones of"
      ],
      "text/plain": [
       "<IPython.core.display.HTML object>"
      ]
     },
     "metadata": {},
     "output_type": "display_data"
    },
    {
     "data": {
      "text/html": [
       "<hr>"
      ],
      "text/plain": [
       "<IPython.core.display.HTML object>"
      ]
     },
     "metadata": {},
     "output_type": "display_data"
    },
    {
     "data": {
      "text/html": [
       " during heavy winds. Avoid sleeping under large <em>branches</em> : even when the <em>tree</em> looks healthy. I have"
      ],
      "text/plain": [
       "<IPython.core.display.HTML object>"
      ]
     },
     "metadata": {},
     "output_type": "display_data"
    },
    {
     "data": {
      "text/html": [
       "<hr>"
      ],
      "text/plain": [
       "<IPython.core.display.HTML object>"
      ]
     },
     "metadata": {},
     "output_type": "display_data"
    },
    {
     "data": {
      "text/html": [
       " all the <em>branches</em>. Build a big pile of small <em>branches</em> that aren't useful <em>for</em> firewood. a. Load this"
      ],
      "text/plain": [
       "<IPython.core.display.HTML object>"
      ]
     },
     "metadata": {},
     "output_type": "display_data"
    },
    {
     "data": {
      "text/html": [
       "<hr>"
      ],
      "text/plain": [
       "<IPython.core.display.HTML object>"
      ]
     },
     "metadata": {},
     "output_type": "display_data"
    },
    {
     "data": {
      "text/html": [
       " <em>tree</em> will grow lots of long stright vertical <em>branches</em>. You probably want to find one of these about the"
      ],
      "text/plain": [
       "<IPython.core.display.HTML object>"
      ]
     },
     "metadata": {},
     "output_type": "display_data"
    },
    {
     "data": {
      "text/html": [
       "<hr>"
      ],
      "text/plain": [
       "<IPython.core.display.HTML object>"
      ]
     },
     "metadata": {},
     "output_type": "display_data"
    },
    {
     "data": {
      "text/html": [
       " <em>for</em> most people is 12- 15 feet. however, using gear to climb a <em>tree</em> is VERY damaging to the <em>tree</em> and"
      ],
      "text/plain": [
       "<IPython.core.display.HTML object>"
      ]
     },
     "metadata": {},
     "output_type": "display_data"
    },
    {
     "data": {
      "text/html": [
       "<hr>"
      ],
      "text/plain": [
       "<IPython.core.display.HTML object>"
      ]
     },
     "metadata": {},
     "output_type": "display_data"
    },
    {
     "data": {
      "text/html": [
       ", either at a junction of <em>branches</em> or a junction which includes the <em>tree</em> trunk. As they grow, they spin the"
      ],
      "text/plain": [
       "<IPython.core.display.HTML object>"
      ]
     },
     "metadata": {},
     "output_type": "display_data"
    },
    {
     "data": {
      "text/html": [
       "<hr>"
      ],
      "text/plain": [
       "<IPython.core.display.HTML object>"
      ]
     },
     "metadata": {},
     "output_type": "display_data"
    },
    {
     "data": {
      "text/html": [
       " <em>tree</em> leading to impact with <em>branches</em> or the trunk. They provide a range of guidance statements, but"
      ],
      "text/plain": [
       "<IPython.core.display.HTML object>"
      ]
     },
     "metadata": {},
     "output_type": "display_data"
    },
    {
     "data": {
      "text/html": [
       "<hr>"
      ],
      "text/plain": [
       "<IPython.core.display.HTML object>"
      ]
     },
     "metadata": {},
     "output_type": "display_data"
    }
   ],
   "source": [
    "query_collection(\"uses for tree branches\")"
   ]
  },
  {
   "cell_type": "code",
   "execution_count": 10,
   "metadata": {},
   "outputs": [
    {
     "data": {
      "text/html": [
       "<br/><strong>Query: </strong><i>pocket knife tied to a string</i><br/><br/><strong>Ranked Docs:</strong>"
      ],
      "text/plain": [
       "<IPython.core.display.HTML object>"
      ]
     },
     "metadata": {},
     "output_type": "display_data"
    },
    {
     "data": {
      "text/html": [
       "I bring <em>a</em> very small <em>pocket</em> <em>knife</em> with me when I'm backpacking (or whatever they call the activity"
      ],
      "text/plain": [
       "<IPython.core.display.HTML object>"
      ]
     },
     "metadata": {},
     "output_type": "display_data"
    },
    {
     "data": {
      "text/html": [
       "<hr>"
      ],
      "text/plain": [
       "<IPython.core.display.HTML object>"
      ]
     },
     "metadata": {},
     "output_type": "display_data"
    },
    {
     "data": {
      "text/html": [
       "I have one such <em>a</em> belt-<em>pocket</em> which I can either attach <em>to</em> my Haversack's waist-belt, or my own"
      ],
      "text/plain": [
       "<IPython.core.display.HTML object>"
      ]
     },
     "metadata": {},
     "output_type": "display_data"
    },
    {
     "data": {
      "text/html": [
       "<hr>"
      ],
      "text/plain": [
       "<IPython.core.display.HTML object>"
      ]
     },
     "metadata": {},
     "output_type": "display_data"
    },
    {
     "data": {
      "text/html": [
       " <em>string</em> so the half hitch has less tendency <em>to</em> slip off.) In thin stuff this is <em>a</em> <em>knife</em> knot, but in"
      ],
      "text/plain": [
       "<IPython.core.display.HTML object>"
      ]
     },
     "metadata": {},
     "output_type": "display_data"
    },
    {
     "data": {
      "text/html": [
       "<hr>"
      ],
      "text/plain": [
       "<IPython.core.display.HTML object>"
      ]
     },
     "metadata": {},
     "output_type": "display_data"
    },
    {
     "data": {
      "text/html": [
       "<strong>Why should I take a pocket knife for wild camping / hiking?</strong>"
      ],
      "text/plain": [
       "<IPython.core.display.HTML object>"
      ]
     },
     "metadata": {},
     "output_type": "display_data"
    },
    {
     "data": {
      "text/html": [
       "I've got the advice <em>to</em> take <em>a</em> <em>pocket</em> <em>knife</em> with me for 2 weeks of wild camping / hiking in Scotland"
      ],
      "text/plain": [
       "<IPython.core.display.HTML object>"
      ]
     },
     "metadata": {},
     "output_type": "display_data"
    },
    {
     "data": {
      "text/html": [
       "<hr>"
      ],
      "text/plain": [
       "<IPython.core.display.HTML object>"
      ]
     },
     "metadata": {},
     "output_type": "display_data"
    },
    {
     "data": {
      "text/html": [
       "<strong>Where to carry a folding knife when hiking?</strong>"
      ],
      "text/plain": [
       "<IPython.core.display.HTML object>"
      ]
     },
     "metadata": {},
     "output_type": "display_data"
    },
    {
     "data": {
      "text/html": [
       " <em>a</em> good idea <em>to</em> carry <em>a</em> folding <em>knife</em> this time just <em>to</em> be on the safe side. I won't be needing it"
      ],
      "text/plain": [
       "<IPython.core.display.HTML object>"
      ]
     },
     "metadata": {},
     "output_type": "display_data"
    },
    {
     "data": {
      "text/html": [
       "<hr>"
      ],
      "text/plain": [
       "<IPython.core.display.HTML object>"
      ]
     },
     "metadata": {},
     "output_type": "display_data"
    },
    {
     "data": {
      "text/html": [
       "<strong>Quick and easy winter shelter for kids to build</strong>"
      ],
      "text/plain": [
       "<IPython.core.display.HTML object>"
      ]
     },
     "metadata": {},
     "output_type": "display_data"
    },
    {
     "data": {
      "text/html": [
       "What would be the easiest type of shelter for <em>a</em> young kid <em>to</em> build, alone and with minimal tools"
      ],
      "text/plain": [
       "<IPython.core.display.HTML object>"
      ]
     },
     "metadata": {},
     "output_type": "display_data"
    },
    {
     "data": {
      "text/html": [
       "<hr>"
      ],
      "text/plain": [
       "<IPython.core.display.HTML object>"
      ]
     },
     "metadata": {},
     "output_type": "display_data"
    },
    {
     "data": {
      "text/html": [
       "<strong>Where should a band be tied to stop bleeding from wound?</strong>"
      ],
      "text/plain": [
       "<IPython.core.display.HTML object>"
      ]
     },
     "metadata": {},
     "output_type": "display_data"
    },
    {
     "data": {
      "text/html": [
       " see in movies that <em>a</em> fabric is <em>tied</em> around the place of bleeding <em>to</em> decrease/stop bleeding. My"
      ],
      "text/plain": [
       "<IPython.core.display.HTML object>"
      ]
     },
     "metadata": {},
     "output_type": "display_data"
    },
    {
     "data": {
      "text/html": [
       "<hr>"
      ],
      "text/plain": [
       "<IPython.core.display.HTML object>"
      ]
     },
     "metadata": {},
     "output_type": "display_data"
    },
    {
     "data": {
      "text/html": [
       "For backpacking I use <em>a</em> small razor blade <em>to</em> open packages. Trail Design Ultralight <em>Knife</em> works"
      ],
      "text/plain": [
       "<IPython.core.display.HTML object>"
      ]
     },
     "metadata": {},
     "output_type": "display_data"
    },
    {
     "data": {
      "text/html": [
       "<hr>"
      ],
      "text/plain": [
       "<IPython.core.display.HTML object>"
      ]
     },
     "metadata": {},
     "output_type": "display_data"
    },
    {
     "data": {
      "text/html": [
       "<strong>How to clean and refurbish a Victorinox Swiss Army Knife?</strong>"
      ],
      "text/plain": [
       "<IPython.core.display.HTML object>"
      ]
     },
     "metadata": {},
     "output_type": "display_data"
    },
    {
     "data": {
      "text/html": [
       " clean it? This <em>knife</em> has been part of my daily carry for over <em>a</em> decade, and I carry it when I exercise"
      ],
      "text/plain": [
       "<IPython.core.display.HTML object>"
      ]
     },
     "metadata": {},
     "output_type": "display_data"
    },
    {
     "data": {
      "text/html": [
       "<hr>"
      ],
      "text/plain": [
       "<IPython.core.display.HTML object>"
      ]
     },
     "metadata": {},
     "output_type": "display_data"
    },
    {
     "data": {
      "text/html": [
       "<strong>What materials from nature can I use to make a hunting bow in the wilderness?</strong>"
      ],
      "text/plain": [
       "<IPython.core.display.HTML object>"
      ]
     },
     "metadata": {},
     "output_type": "display_data"
    },
    {
     "data": {
      "text/html": [
       " materials that would be used for the <em>string</em> or any other parts necessary <em>to</em> make <em>a</em> successful hunting bow"
      ],
      "text/plain": [
       "<IPython.core.display.HTML object>"
      ]
     },
     "metadata": {},
     "output_type": "display_data"
    },
    {
     "data": {
      "text/html": [
       "<hr>"
      ],
      "text/plain": [
       "<IPython.core.display.HTML object>"
      ]
     },
     "metadata": {},
     "output_type": "display_data"
    }
   ],
   "source": [
    "query_collection(\"pocket knife tied to a string\")"
   ]
  },
  {
   "cell_type": "code",
   "execution_count": null,
   "metadata": {},
   "outputs": [],
   "source": []
  }
 ],
 "metadata": {
  "kernelspec": {
   "display_name": "Python 3",
   "language": "python",
   "name": "python3"
  },
  "language_info": {
   "codemirror_mode": {
    "name": "ipython",
    "version": 3
   },
   "file_extension": ".py",
   "mimetype": "text/x-python",
   "name": "python",
   "nbconvert_exporter": "python",
   "pygments_lexer": "ipython3",
   "version": "3.8.6"
  }
 },
 "nbformat": 4,
 "nbformat_minor": 4
}
