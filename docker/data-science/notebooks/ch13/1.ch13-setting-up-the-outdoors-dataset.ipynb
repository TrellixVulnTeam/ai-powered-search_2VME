{
 "cells": [
  {
   "cell_type": "code",
   "execution_count": 1,
   "metadata": {},
   "outputs": [],
   "source": [
    "import sys\n",
    "import html\n",
    "import pandas\n",
    "import pickle\n",
    "import json\n",
    "sys.path.append('..')\n",
    "from aips import *"
   ]
  },
  {
   "cell_type": "code",
   "execution_count": 2,
   "metadata": {},
   "outputs": [
    {
     "name": "stdout",
     "output_type": "stream",
     "text": [
      "Wiping 'outdoors' collection\n",
      "[('action', 'CREATE'), ('name', 'outdoors'), ('numShards', 1), ('replicationFactor', 1)]\n",
      "Creating outdoors' collection\n",
      "Status: Success\n",
      "Adding 'post_type_id' field to collection\n",
      "Status: Success\n",
      "Adding 'accepted_answer_id' field to collection\n",
      "Status: Success\n",
      "Adding 'parent_id' field to collection\n",
      "Status: Success\n",
      "Adding 'score' field to collection\n",
      "Status: Success\n",
      "Adding 'view_count' field to collection\n",
      "Status: Success\n",
      "Adding 'body' field to collection\n",
      "Status: Success\n",
      "Adding 'title' field to collection\n",
      "Status: Success\n",
      "Adding 'tags' field to collection\n",
      "Status: Success\n",
      "Adding 'answer_count' field to collection\n",
      "Status: Success\n"
     ]
    }
   ],
   "source": [
    "outdoors_collection=\"outdoors\"\n",
    "create_collection(outdoors_collection)\n",
    "\n",
    "upsert_integer_field(outdoors_collection,\"post_type_id\")\n",
    "upsert_integer_field(outdoors_collection,\"accepted_answer_id\")\n",
    "upsert_integer_field(outdoors_collection,\"parent_id\")\n",
    "upsert_integer_field(outdoors_collection,\"score\")\n",
    "upsert_integer_field(outdoors_collection,\"view_count\")\n",
    "upsert_text_field(outdoors_collection,\"body\")\n",
    "upsert_text_field(outdoors_collection,\"title\")\n",
    "upsert_keyword_field(outdoors_collection,\"tags\")\n",
    "upsert_integer_field(outdoors_collection,\"answer_count\")"
   ]
  },
  {
   "cell_type": "code",
   "execution_count": 3,
   "metadata": {},
   "outputs": [
    {
     "name": "stdout",
     "output_type": "stream",
     "text": [
      "data/outdoors.tgz already exists\n"
     ]
    }
   ],
   "source": [
    "from ltr.download import download, extract_tgz\n",
    "import tarfile\n",
    "\n",
    "dataset = ['https://github.com/ai-powered-search/outdoors/raw/master/outdoors.tgz']\n",
    "download(dataset, dest='data/')\n",
    "extract_tgz('data/outdoors.tgz') # -> Holds 'outdoors.csv', a big CSV file of the stackexchange outdoors dataset"
   ]
  },
  {
   "cell_type": "code",
   "execution_count": 4,
   "metadata": {},
   "outputs": [],
   "source": [
    "def transformData(filename):\n",
    "    data = []\n",
    "    df = pandas.read_csv(filename)\n",
    "    df = df.fillna(0)\n",
    "    df[\"id\"] = pandas.to_numeric(df[\"id\"], errors='coerce').astype(str)\n",
    "    df[\"post_type_id\"] = pandas.to_numeric(df[\"post_type_id\"], errors='coerce').astype(int)\n",
    "    df[\"accepted_answer_id\"] = pandas.to_numeric(df[\"accepted_answer_id\"], errors='coerce').astype(int)\n",
    "    df[\"parent_id\"] = pandas.to_numeric(df[\"parent_id\"], errors='coerce').astype(int)\n",
    "    df[\"score\"] = pandas.to_numeric(df[\"score\"], errors='coerce').astype(int)\n",
    "    df[\"view_count\"] = pandas.to_numeric(df[\"view_count\"], errors='coerce').astype(int)\n",
    "    df[\"answer_count\"] = pandas.to_numeric(df[\"answer_count\"], errors='coerce').astype(int)\n",
    "    \n",
    "    for idx,row in df.iterrows():\n",
    "        tagset = []\n",
    "        if row[\"tags\"] and isinstance(row[\"tags\"],str):\n",
    "            tagset = [t.replace('-',' ') for t in re.compile(\"[\\<\\>]\").split(html.unescape(row[\"tags\"])) if len(t)]\n",
    "\n",
    "            data.append({\n",
    "            \"id\": row[\"post_type_id\"],\n",
    "            \"post_type_id\" : (row[\"post_type_id\"] if row[\"post_type_id\"] else None),\n",
    "            \"accepted_answer_id\" : (row[\"accepted_answer_id\"] if row[\"accepted_answer_id\"] else None),\n",
    "            \"parent_id\" : (row[\"parent_id\"] if row[\"parent_id\"] else None),\n",
    "            \"score\" : (row[\"score\"] if row[\"score\"] else None),\n",
    "            \"view_count\" : (row[\"view_count\"] if row[\"view_count\"] else None),\n",
    "            \"body\" : row[\"body\"],\n",
    "            \"title\" : row[\"title\"],\n",
    "            \"tags\" : tagset,\n",
    "            \"answer_count\" : (row[\"answer_count\"] if row[\"answer_count\"] else None)\n",
    "        })\n",
    "    return data\n",
    "data = transformData('data/posts.csv')"
   ]
  },
  {
   "cell_type": "code",
   "execution_count": 5,
   "metadata": {},
   "outputs": [
    {
     "name": "stdout",
     "output_type": "stream",
     "text": [
      "\n",
      "Adding Documents to 'outdoors' collection\n",
      "Status: Success\n"
     ]
    }
   ],
   "source": [
    "print(\"\\nAdding Documents to '\" + outdoors_collection + \"' collection\")\n",
    "response = requests.post(solr_url + outdoors_collection + \"/update?commit=true\", json=data).json()\n",
    "print(\"Status: \" \"Success\" if response[\"responseHeader\"][\"status\"] == 0 else \"Failure\" )"
   ]
  },
  {
   "cell_type": "code",
   "execution_count": null,
   "metadata": {},
   "outputs": [],
   "source": []
  }
 ],
 "metadata": {
  "kernelspec": {
   "display_name": "Python 3",
   "language": "python",
   "name": "python3"
  },
  "language_info": {
   "codemirror_mode": {
    "name": "ipython",
    "version": 3
   },
   "file_extension": ".py",
   "mimetype": "text/x-python",
   "name": "python",
   "nbconvert_exporter": "python",
   "pygments_lexer": "ipython3",
   "version": "3.8.6"
  }
 },
 "nbformat": 4,
 "nbformat_minor": 4
}
