{
 "cells": [
  {
   "cell_type": "code",
   "execution_count": 1,
   "metadata": {},
   "outputs": [],
   "source": [
    "import sys\n",
    "import html\n",
    "import pandas\n",
    "import pickle\n",
    "import json\n",
    "import spacy\n",
    "import warnings\n",
    "from IPython.core.display import display,HTML\n",
    "warnings.filterwarnings('ignore') #Some operations warn inside a loop, we'll only need to see the first warning\n",
    "sys.path.append('..')\n",
    "from aips import *"
   ]
  },
  {
   "cell_type": "code",
   "execution_count": 2,
   "metadata": {},
   "outputs": [],
   "source": [
    "outdoors_collection=\"outdoors\"\n",
    "path = \"./\""
   ]
  },
  {
   "cell_type": "code",
   "execution_count": 3,
   "metadata": {},
   "outputs": [],
   "source": [
    "nlp = spacy.load('en_core_web_lg')\n",
    "nlp.remove_pipe('ner')\n",
    "merge_nps = nlp.create_pipe('merge_noun_chunks')\n",
    "nlp.add_pipe(merge_nps)\n",
    "determiners = 'all an another any both del each either every half la many much nary neither no some such that the them these this those'.split(' ')\n",
    "def getQueryFromQuestion(question):\n",
    "    query = []\n",
    "    doc = nlp(question)\n",
    "    for tok in doc:\n",
    "        if tok.dep_ in ['nsubj']:\n",
    "            query.append(tok.text)\n",
    "    if not len(query):\n",
    "        query = [question]\n",
    "    query = ' '.join(query)\n",
    "    for d in determiners:\n",
    "        query = query.replace(d,'')\n",
    "    return query"
   ]
  },
  {
   "cell_type": "code",
   "execution_count": 4,
   "metadata": {},
   "outputs": [],
   "source": [
    "def getCandidateContexts(question):\n",
    "    contexts={\"id\":[],\"question\":[],\"context\":[],\"url\":[]}\n",
    "    query = getQueryFromQuestion(question)\n",
    "    request = {\n",
    "        \"query\": query,\n",
    "        \"fields\": [\"id\",\"url\",\"body\"],\n",
    "        \"params\": {\n",
    "          \"qf\": [\"body\"],\n",
    "          \"fq\": [\"post_type_id:2\"],\n",
    "          \"defType\": \"edismax\",\n",
    "          \"rows\":5\n",
    "        }\n",
    "    }\n",
    "    docs = requests.post(solr_url + outdoors_collection + \"/select\", json=request).json()[\"response\"][\"docs\"]\n",
    "    for doc in docs:\n",
    "        contexts[\"id\"].append(doc[\"id\"])\n",
    "        contexts[\"url\"].append(doc[\"url\"])\n",
    "        contexts[\"question\"].append(question)\n",
    "        contexts[\"context\"].append(doc[\"body\"])\n",
    "    return pandas.DataFrame(contexts)"
   ]
  },
  {
   "cell_type": "code",
   "execution_count": 5,
   "metadata": {},
   "outputs": [
    {
     "data": {
      "text/html": [
       "<div>\n",
       "<style scoped>\n",
       "    .dataframe tbody tr th:only-of-type {\n",
       "        vertical-align: middle;\n",
       "    }\n",
       "\n",
       "    .dataframe tbody tr th {\n",
       "        vertical-align: top;\n",
       "    }\n",
       "\n",
       "    .dataframe thead th {\n",
       "        text-align: right;\n",
       "    }\n",
       "</style>\n",
       "<table border=\"1\" class=\"dataframe\">\n",
       "  <thead>\n",
       "    <tr style=\"text-align: right;\">\n",
       "      <th></th>\n",
       "      <th>id</th>\n",
       "      <th>question</th>\n",
       "      <th>context</th>\n",
       "      <th>url</th>\n",
       "    </tr>\n",
       "  </thead>\n",
       "  <tbody>\n",
       "    <tr>\n",
       "      <th>0</th>\n",
       "      <td>16459</td>\n",
       "      <td>What is the best mosquito repellant?</td>\n",
       "      <td>Screens are the best solution, and the only so...</td>\n",
       "      <td>https://outdoors.stackexchange.com/questions/1...</td>\n",
       "    </tr>\n",
       "    <tr>\n",
       "      <th>1</th>\n",
       "      <td>1116</td>\n",
       "      <td>What is the best mosquito repellant?</td>\n",
       "      <td>According to one study of one species of mosqu...</td>\n",
       "      <td>https://outdoors.stackexchange.com/questions/1116</td>\n",
       "    </tr>\n",
       "    <tr>\n",
       "      <th>2</th>\n",
       "      <td>765</td>\n",
       "      <td>What is the best mosquito repellant?</td>\n",
       "      <td>Physical barriers are my deterrent of choice. ...</td>\n",
       "      <td>https://outdoors.stackexchange.com/questions/765</td>\n",
       "    </tr>\n",
       "    <tr>\n",
       "      <th>3</th>\n",
       "      <td>1332</td>\n",
       "      <td>What is the best mosquito repellant?</td>\n",
       "      <td>CO 2 traps, according to the NIH , fare better...</td>\n",
       "      <td>https://outdoors.stackexchange.com/questions/1332</td>\n",
       "    </tr>\n",
       "    <tr>\n",
       "      <th>4</th>\n",
       "      <td>4311</td>\n",
       "      <td>What is the best mosquito repellant?</td>\n",
       "      <td>Anecdotally - yes. I've heard it is possible, ...</td>\n",
       "      <td>https://outdoors.stackexchange.com/questions/4311</td>\n",
       "    </tr>\n",
       "  </tbody>\n",
       "</table>\n",
       "</div>"
      ],
      "text/plain": [
       "      id                              question  \\\n",
       "0  16459  What is the best mosquito repellant?   \n",
       "1   1116  What is the best mosquito repellant?   \n",
       "2    765  What is the best mosquito repellant?   \n",
       "3   1332  What is the best mosquito repellant?   \n",
       "4   4311  What is the best mosquito repellant?   \n",
       "\n",
       "                                             context  \\\n",
       "0  Screens are the best solution, and the only so...   \n",
       "1  According to one study of one species of mosqu...   \n",
       "2  Physical barriers are my deterrent of choice. ...   \n",
       "3  CO 2 traps, according to the NIH , fare better...   \n",
       "4  Anecdotally - yes. I've heard it is possible, ...   \n",
       "\n",
       "                                                 url  \n",
       "0  https://outdoors.stackexchange.com/questions/1...  \n",
       "1  https://outdoors.stackexchange.com/questions/1116  \n",
       "2   https://outdoors.stackexchange.com/questions/765  \n",
       "3  https://outdoors.stackexchange.com/questions/1332  \n",
       "4  https://outdoors.stackexchange.com/questions/4311  "
      ]
     },
     "execution_count": 5,
     "metadata": {},
     "output_type": "execute_result"
    }
   ],
   "source": [
    "contexts = getCandidateContexts('What is the best mosquito repellant?')\n",
    "contexts[0:10]"
   ]
  },
  {
   "cell_type": "code",
   "execution_count": 6,
   "metadata": {},
   "outputs": [],
   "source": [
    "from transformers import AutoModelForQuestionAnswering, AutoTokenizer, pipeline\n",
    "import tqdm\n",
    "\n",
    "model_name = 'deepset/roberta-base-squad2'\n",
    "pipeline_type = 'question-answering'\n",
    "\n",
    "device=-1 #CPU\n",
    "#device=0 #<-- Uncomment to use GPU, if you are running in Google Colab\n",
    "\n",
    "def answerQuestion(question):\n",
    "    qa_nlp = pipeline(pipeline_type, model=model_name, tokenizer=model_name, device=device)\n",
    "    answers = []\n",
    "    contexs = getCandidateContexts(question)\n",
    "    for idx,row in tqdm.tqdm(contexts.iterrows(),total=len(contexts)):\n",
    "        result = qa_nlp({\"question\":row[\"question\"],\"context\":row[\"context\"]})\n",
    "        result[\"id\"] = row[\"id\"]\n",
    "        result[\"url\"] = row[\"url\"]\n",
    "        answers.append(result)\n",
    "    sorted_answers = sorted(answers, key=lambda k: k['score'], reverse=True)\n",
    "    return sorted_answers"
   ]
  },
  {
   "cell_type": "code",
   "execution_count": 9,
   "metadata": {},
   "outputs": [
    {
     "name": "stderr",
     "output_type": "stream",
     "text": [
      "Some weights of RobertaModel were not initialized from the model checkpoint at deepset/roberta-base-squad2 and are newly initialized: ['roberta.pooler.dense.weight', 'roberta.pooler.dense.bias']\n",
      "You should probably TRAIN this model on a down-stream task to be able to use it for predictions and inference.\n",
      "100%|██████████| 5/5 [00:04<00:00,  1.01it/s]\n"
     ]
    },
    {
     "data": {
      "text/html": [
       "<h1>What is the best mosquito repellant?</h1>"
      ],
      "text/plain": [
       "<IPython.core.display.HTML object>"
      ]
     },
     "metadata": {},
     "output_type": "display_data"
    },
    {
     "data": {
      "text/html": [
       "<a href=\"https://outdoors.stackexchange.com/questions/1116\">1116</a>&nbsp;<strong>DEET</strong><em>(0.6843489408493042)</em>"
      ],
      "text/plain": [
       "<IPython.core.display.HTML object>"
      ]
     },
     "metadata": {},
     "output_type": "display_data"
    },
    {
     "data": {
      "text/html": [
       "<a href=\"https://outdoors.stackexchange.com/questions/16459\">16459</a>&nbsp;<strong>Screens</strong><em>(0.33116063475608826)</em>"
      ],
      "text/plain": [
       "<IPython.core.display.HTML object>"
      ]
     },
     "metadata": {},
     "output_type": "display_data"
    },
    {
     "data": {
      "text/html": [
       "<a href=\"https://outdoors.stackexchange.com/questions/765\">765</a>&nbsp;<strong>Physical barriers</strong><em>(0.17263934016227722)</em>"
      ],
      "text/plain": [
       "<IPython.core.display.HTML object>"
      ]
     },
     "metadata": {},
     "output_type": "display_data"
    },
    {
     "data": {
      "text/html": [
       "<a href=\"https://outdoors.stackexchange.com/questions/1332\">1332</a>&nbsp;<strong>CO 2 traps,</strong><em>(0.1689174324274063)</em>"
      ],
      "text/plain": [
       "<IPython.core.display.HTML object>"
      ]
     },
     "metadata": {},
     "output_type": "display_data"
    },
    {
     "data": {
      "text/html": [
       "<a href=\"https://outdoors.stackexchange.com/questions/4311\">4311</a>&nbsp;<strong>saliva.</strong><em>(0.0002423885016469285)</em>"
      ],
      "text/plain": [
       "<IPython.core.display.HTML object>"
      ]
     },
     "metadata": {},
     "output_type": "display_data"
    }
   ],
   "source": [
    "question = 'What is the best mosquito repellant?'\n",
    "answers = answerQuestion(question)\n",
    "display(HTML('<h1>'+question+'</h1>'))\n",
    "for answer in answers:\n",
    "    display(HTML('<a href=\"'+answer[\"url\"]+'\">'+answer[\"id\"]+'</a>&nbsp;<strong>'+answer[\"answer\"]+'</strong><em>('+str(answer[\"score\"])+')</em>'))"
   ]
  },
  {
   "cell_type": "code",
   "execution_count": null,
   "metadata": {},
   "outputs": [],
   "source": []
  }
 ],
 "metadata": {
  "kernelspec": {
   "display_name": "Python 3",
   "language": "python",
   "name": "python3"
  },
  "language_info": {
   "codemirror_mode": {
    "name": "ipython",
    "version": 3
   },
   "file_extension": ".py",
   "mimetype": "text/x-python",
   "name": "python",
   "nbconvert_exporter": "python",
   "pygments_lexer": "ipython3",
   "version": "3.7.9"
  }
 },
 "nbformat": 4,
 "nbformat_minor": 4
}
